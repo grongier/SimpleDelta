{
 "cells": [
  {
   "cell_type": "markdown",
   "id": "2033b448-3cf5-492a-aa3a-651386b0f2cf",
   "metadata": {},
   "source": [
    "<table align=\"left\">\n",
    "    <tr>\n",
    "        <td style=\"vertical-align: middle; padding-left: 0px; padding-right: 0px;\">\n",
    "            <a href=\"https://creativecommons.org/licenses/by/4.0/\">\n",
    "                <img src=\"https://licensebuttons.net/l/by/4.0/80x15.png\" />\n",
    "            </a>\n",
    "        </td>\n",
    "        <td style=\"vertical-align: middle; padding-left: 5px; padding-right: 0px;\">\n",
    "            <a href=\"https://opensource.org/licenses/MIT\">\n",
    "                <img src=\"https://img.shields.io/badge/License-MIT-green.svg\" />\n",
    "            </a>\n",
    "        </td>\n",
    "        <td style=\"vertical-align: middle; padding-left: 15px;\">\n",
    "            &copy; Guillaume Rongier\n",
    "        </td>\n",
    "    </tr>\n",
    "</table>"
   ]
  },
  {
   "cell_type": "markdown",
   "id": "ee715343-db29-4d3d-8d9c-46e62f9c5e06",
   "metadata": {},
   "source": [
    "# Building a simple numerical model of a delta"
   ]
  },
  {
   "cell_type": "markdown",
   "id": "1a8c33b1-89a1-4b56-97a4-65db571c2543",
   "metadata": {},
   "source": [
    "*Based on [Building a simple delta numerical model](https://www.andrewjmoodie.com/blog/2016/11-01-2016-building-a-simple-delta-numerical-model-part-i/) by Andrew J. Moodie.*\n",
    "\n",
    "In this notebook, we will build a simple numerical model for a delta piece by piece before putting all the pieces together."
   ]
  },
  {
   "cell_type": "markdown",
   "id": "fff62954-b138-4eea-826b-3fd16e51dc91",
   "metadata": {},
   "source": [
    "### Imports"
   ]
  },
  {
   "cell_type": "code",
   "execution_count": null,
   "id": "4dabeab6-1f4d-4468-998d-6b86a327df21",
   "metadata": {},
   "outputs": [],
   "source": [
    "# To manipulate arrays and matrices\n",
    "import numpy as np\n",
    "# To create plots and visualizations\n",
    "import matplotlib.pyplot as plt\n",
    "# To add widgets for interactive visualizations\n",
    "import ipywidgets as widgets\n",
    "# To create animated visualizations\n",
    "import matplotlib.animation as animation\n",
    "# To display animated visualizations\n",
    "from IPython.display import HTML"
   ]
  },
  {
   "cell_type": "markdown",
   "id": "66bd8add-399c-4e66-88e2-9b0fb3e965ac",
   "metadata": {},
   "source": [
    "### Setting"
   ]
  },
  {
   "cell_type": "code",
   "execution_count": null,
   "id": "1b8af96e-0e6d-4524-96fd-2dbb8df0a1e9",
   "metadata": {},
   "outputs": [],
   "source": [
    "%matplotlib widget"
   ]
  },
  {
   "cell_type": "markdown",
   "id": "3c647e6f-be39-4772-b4fd-085afc739298",
   "metadata": {},
   "source": [
    "## 1. Basic components"
   ]
  },
  {
   "cell_type": "markdown",
   "id": "408fe73e-dce1-41b0-82a9-7f906484ee52",
   "metadata": {},
   "source": [
    "### 1.1. Water flow"
   ]
  },
  {
   "cell_type": "markdown",
   "id": "ea73f8e1-b2b1-43e4-8445-3e6f49f38255",
   "metadata": {},
   "source": [
    "This section is based on these two blog posts:\n",
    " * https://www.andrewjmoodie.com/blog/2016/11-01-2016-building-a-simple-delta-numerical-model-part-i/\n",
    " * https://www.andrewjmoodie.com/blog/2016/11-08-2016-building-a-simple-delta-numerical-model-part-ii/"
   ]
  },
  {
   "cell_type": "markdown",
   "id": "9d95a53e-65ca-44a9-bbc0-ec57b630a23c",
   "metadata": {},
   "source": [
    "Here we consider a [gradually-varied flow](https://en.wikipedia.org/wiki/Open-channel_flow) under steady state conditions in an open channel of rectangular cross section and constant width. In such setting, we can get the one-dimensional water surface elevation using the [standard step method](https://en.wikipedia.org/wiki/Standard_step_method), in which we need to solve the gradually-varied-flow equation:\n",
    "$$\n",
    "\\frac{\\partial H}{\\partial x} = \\frac{S - C_f Fr^2}{1 - Fr^2}\n",
    "$$\n",
    "With:\n",
    "$$\n",
    "\\begin{align}\n",
    "Fr^2 & = \\frac{q_w^2}{g H^3} \\\\[0.6em]\n",
    "q_w & = Q_w / B \\\\\n",
    "\\end{align}\n",
    "$$\n",
    "Where:\n",
    " * $H$ is the flow depth [L].\n",
    " * $x$ is the streamwise coordinate [L].\n",
    " * $S$ is the slope of the channel bed [L/L].\n",
    " * $C_f$ is the coefficient of friction [dimensionless].\n",
    " * $Fr$ is the [Froude number](https://en.wikipedia.org/wiki/Froude_number) [dimensionless].\n",
    " * $g$ is the gravitational acceleration constant [L/T$^2$].\n",
    " * $q_w$ is the width-averaged water discharge [L$^2$/T].\n",
    " * $B$ is the channel width [L].\n",
    " * $Q_w$ is the water discharge such as $Q_w = U A$ [L$^3$/T].\n",
    " * $U$ is the flow velocity [L/T].\n",
    " * $A$ is the channel cross-sectional area given by $A = B H$ [L$^2$].\n",
    "\n",
    "To do so, we will start downstream and then move upstream (backwater calculation) using the [predictor-corrector method](https://en.wikipedia.org/wiki/Predictor%E2%80%93corrector_method).\n",
    "\n",
    "Let's define two functions to do that:"
   ]
  },
  {
   "cell_type": "code",
   "execution_count": null,
   "id": "7e49534c-fe24-4d30-ac12-971719aae55d",
   "metadata": {},
   "outputs": [],
   "source": [
    "def gradually_varied_flow(water_discharge,\n",
    "                          flow_depth,\n",
    "                          channel_width,\n",
    "                          bed_slope,\n",
    "                          friction_coef,\n",
    "                          g=9.81):\n",
    "    \"\"\"\n",
    "    Computes the change of flow depth along the streamwise direction for a\n",
    "    gradually-varied flow in an open channel.\n",
    "\n",
    "    Parameters\n",
    "    ----------\n",
    "    water_discharge : float\n",
    "        The water discharge into the channel [L3/T].\n",
    "    flow_depth : float\n",
    "        The current flow depth [L].\n",
    "    channel_width : float\n",
    "        The width of the channel [L].\n",
    "    bed_slope : float\n",
    "        The slope of the channel bed [dimensionless].\n",
    "    friction_coef : float\n",
    "        The coefficient of friction [dimensionless].\n",
    "    g : float, default=9.81\n",
    "        The gravitational acceleration constant [L/T2, default m/s2].\n",
    "\n",
    "    Returns\n",
    "    -------\n",
    "    flow_depth_change : float or array-like\n",
    "        The change of flow depth [L].\n",
    "    \"\"\"\n",
    "    width_discharge = water_discharge/channel_width\n",
    "    sq_froude_nb = width_discharge**2 / (g * flow_depth**3)\n",
    "\n",
    "    return (bed_slope - friction_coef*sq_froude_nb)/(1 - sq_froude_nb)\n",
    "\n",
    "\n",
    "def solve_backwater_profile(topography,\n",
    "                            spacing,\n",
    "                            channel_width,\n",
    "                            friction_coef,\n",
    "                            water_discharge,\n",
    "                            base_level,\n",
    "                            g=9.81):\n",
    "    \"\"\"\n",
    "    Solves the gradually-varied-flow equation using the predictor-corrector\n",
    "    method starting downstream then moving upstream.\n",
    "\n",
    "    Parameters\n",
    "    ----------\n",
    "    topography : array-like\n",
    "        The topopgraphy along the streamwise coordinate in a one-dimensional\n",
    "        array [L].\n",
    "    spacing : float\n",
    "        The distance between the nodes of `topopgraphy` [L].\n",
    "    channel_width : float\n",
    "        The width of the channel [L].\n",
    "    friction_coef : float\n",
    "        The coefficient of friction [dimensionless].\n",
    "    water_discharge : float\n",
    "        The water discharge into the channel [L3/T].\n",
    "    base_level : float\n",
    "        The elevation of the water surface at the end of `topopgraphy`, on\n",
    "        the downstream side.\n",
    "    g : float, default=9.81\n",
    "        The gravitational acceleration constant [L/T2, default m/s2].\n",
    "\n",
    "    Returns\n",
    "    -------\n",
    "    flow_depth_change : float or array-like\n",
    "        The change of flow depth [L].\n",
    "    \"\"\"\n",
    "    bed_slope = -np.gradient(topography, spacing)\n",
    "\n",
    "    flow_depth = np.empty_like(topography)\n",
    "    flow_depth[-1] = base_level - topography[-1]\n",
    "    for i in range(flow_depth.shape[0] - 1, 0, -1):\n",
    "        flow_depth_change_p = gradually_varied_flow(water_discharge,\n",
    "                                                    flow_depth[i],\n",
    "                                                    channel_width,\n",
    "                                                    bed_slope[i],\n",
    "                                                    friction_coef,\n",
    "                                                    g=g)\n",
    "        flow_depth_change_c = gradually_varied_flow(water_discharge,\n",
    "                                                    flow_depth[i] - spacing*flow_depth_change_p,\n",
    "                                                    channel_width,\n",
    "                                                    bed_slope[i - 1],\n",
    "                                                    friction_coef,\n",
    "                                                    g=g)\n",
    "        flow_depth[i - 1] = flow_depth[i] - spacing*(flow_depth_change_p + flow_depth_change_c)/2\n",
    "\n",
    "    return flow_depth"
   ]
  },
  {
   "cell_type": "markdown",
   "id": "425d58cc-f7e9-4c7d-825c-c9b631c33516",
   "metadata": {},
   "source": [
    "And some parameter values:"
   ]
  },
  {
   "cell_type": "code",
   "execution_count": null,
   "id": "4dd86096-6898-45a1-b898-ba719f15eae1",
   "metadata": {},
   "outputs": [],
   "source": [
    "# Length of the domain\n",
    "extent = 1200e3 # m\n",
    "# Number of nodes\n",
    "shape = 400 # cell\n",
    "# Size of each cell\n",
    "spacing = extent/shape # m\n",
    "\n",
    "# Elevation at x = 0 to initialize the topography\n",
    "initial_elevation = 63 # m\n",
    "# Slope of the initial topography\n",
    "initial_slope = 7e-5 # m/m\n",
    "\n",
    "# Fixed base level\n",
    "base_level = 0 # m\n",
    "# Constant channel width\n",
    "channel_width = 1100 # m\n",
    "# Friction coefficient\n",
    "friction_coef = 0.0047"
   ]
  },
  {
   "cell_type": "markdown",
   "id": "d8e01607-a26e-433e-b203-426f1982a94d",
   "metadata": {},
   "source": [
    "We can now compute the topography:"
   ]
  },
  {
   "cell_type": "code",
   "execution_count": null,
   "id": "cfcaa99d-2c38-4e8a-8e3a-a0300346cb26",
   "metadata": {},
   "outputs": [],
   "source": [
    "# Coordinates of each node along the x axis\n",
    "x = np.linspace(0, extent, shape + 1)\n",
    "# Channel bed\n",
    "initial_topography = np.linspace(initial_elevation,\n",
    "                                 initial_elevation - initial_slope*shape*spacing,\n",
    "                                 shape + 1)"
   ]
  },
  {
   "cell_type": "markdown",
   "id": "5210ea89-a9e7-4c8f-a303-a0f80b1cb051",
   "metadata": {},
   "source": [
    "And compute the flow depth for different values of water discharge:"
   ]
  },
  {
   "cell_type": "code",
   "execution_count": null,
   "id": "d33ac0b2-a074-467a-a242-71e6dc490b65",
   "metadata": {},
   "outputs": [],
   "source": [
    "flow_depth_9000 = solve_backwater_profile(initial_topography,\n",
    "                                          spacing,\n",
    "                                          channel_width,\n",
    "                                          friction_coef,\n",
    "                                          9000, # m3/s\n",
    "                                          base_level)\n",
    "flow_depth_27000 = solve_backwater_profile(initial_topography,\n",
    "                                           spacing,\n",
    "                                           channel_width,\n",
    "                                           friction_coef,\n",
    "                                           27000, # m3/s\n",
    "                                           base_level)\n",
    "flow_depth_50000 = solve_backwater_profile(initial_topography,\n",
    "                                           spacing,\n",
    "                                           channel_width,\n",
    "                                           friction_coef,\n",
    "                                           50000, # m3/s\n",
    "                                           base_level)"
   ]
  },
  {
   "cell_type": "markdown",
   "id": "b1fc55b2-5516-471d-9f43-8611a1db24a8",
   "metadata": {},
   "source": [
    "We can then plot the water surfaces corresponding to each water depth:"
   ]
  },
  {
   "cell_type": "code",
   "execution_count": null,
   "id": "e111b456-6ea9-428c-a3fb-cec32a0aeada",
   "metadata": {},
   "outputs": [],
   "source": [
    "fig, ax = plt.subplots()\n",
    "fig.canvas.header_visible = False\n",
    "ax.plot(x/1000, initial_topography + flow_depth_9000,\n",
    "        c='tab:blue', label='Water surface, $Q_w = 9000~m^3/s$')\n",
    "ax.plot(x/1000, initial_topography + flow_depth_27000,\n",
    "        c='tab:blue', ls='dashed', label='Water surface, $Q_w = 27000~m^3/s$')\n",
    "ax.plot(x/1000, initial_topography + flow_depth_50000,\n",
    "        c='tab:blue', ls='dotted', label='Water surface, $Q_w = 50000~m^3/s$')\n",
    "ax.plot(x/1000., initial_topography, c='black', label='Channel bed')\n",
    "ax.set(xlim=(0, extent/1000), ylim=(-40, 100),\n",
    "       xlabel='Distance downstream (km)', ylabel='Elevation (m)')\n",
    "ax.legend();"
   ]
  },
  {
   "cell_type": "markdown",
   "id": "9dad7cec-82ae-49a5-8afb-b16b89a8ac9a",
   "metadata": {},
   "source": [
    "Or even better define an interactive plot to look at the impact of the discharge on the water surface:"
   ]
  },
  {
   "cell_type": "code",
   "execution_count": null,
   "id": "41398438-9e8a-4abd-bb44-ba24c894dbfe",
   "metadata": {},
   "outputs": [],
   "source": [
    "fig, ax = plt.subplots()\n",
    "\n",
    "args = {'continuous_update': False, 'layout': {'width': '450px'}, 'style': {'description_width': '150px'}}\n",
    "wdg_discharge = widgets.IntSlider(value=9000, min=500, max=75000, step=500,\n",
    "                                  description=u'Water discharge (m\\u00B3/s)', **args)\n",
    "\n",
    "def update(discharge):\n",
    "    flow_depth = solve_backwater_profile(initial_topography, spacing,\n",
    "                                         channel_width, friction_coef,\n",
    "                                         discharge, base_level)\n",
    "    line_depth.set_ydata(initial_topography + flow_depth)\n",
    "\n",
    "fig.canvas.header_visible = False\n",
    "line_depth, = ax.plot(x/1000, initial_topography + flow_depth_9000,\n",
    "                      c='tab:blue', label='Water surface')\n",
    "ax.plot(x/1000, initial_topography, c='black', label='Channel bed')\n",
    "ax.set(xlim=(0, extent/1000), ylim=(-40, 100),\n",
    "       xlabel='Distance downstream (km)', ylabel='Elevation (m)')\n",
    "ax.legend()\n",
    "\n",
    "# Run the interactive plot.\n",
    "out = widgets.interactive_output(update, {'discharge': wdg_discharge})\n",
    "widgets.HBox([wdg_discharge, out])"
   ]
  },
  {
   "cell_type": "markdown",
   "id": "31057a30-2a55-4320-8efd-a116a936d72a",
   "metadata": {},
   "source": [
    "### 1.2. Sediment transport"
   ]
  },
  {
   "cell_type": "markdown",
   "id": "df91801c-2f8f-43c0-9b76-e48330e6fe34",
   "metadata": {},
   "source": [
    "This section is based on this blog post: https://www.andrewjmoodie.com/blog/2016/11-15-2016-building-a-simple-delta-numerical-model-part-iii/"
   ]
  },
  {
   "cell_type": "markdown",
   "id": "3f9f1071-b6cf-42f6-9d1b-5c244d897fb9",
   "metadata": {},
   "source": [
    "Now that we have the flow depth, we can compute sediment transport based on the flow velocity using the Engelund-Hansen formula:\n",
    "$$\n",
    "q_s = \\beta \\sqrt{R g D} D \\frac{0.05}{C_f} \\left( \\frac{\\tau}{\\rho R g D} \\right)^{2.5}\n",
    "$$\n",
    "With:\n",
    "$$\n",
    "\\begin{align}\n",
    "\\tau & = \\rho C_f U^2 \\\\[0.6em]\n",
    "U & = \\frac{Q_w}{H B} \\\\\n",
    "\\end{align}\n",
    "$$\n",
    "Where:\n",
    " * $q_s$ is the sediment transport per unit width [L$^2$/T].\n",
    " * $\\beta$ is an empirical adjustment coefficient [dimensionless].\n",
    " * $R$ is the submerged specific gravity of the bed sediment [dimensionless].\n",
    " * $g$ is the gravitational acceleration constant [L/T$^2$].\n",
    " * $D$ is the grain size [L].\n",
    " * $C_f$ is the coefficient of friction [dimensionless].\n",
    " * $\\rho$ is the fluid density [M/L$^3$]\n",
    " * $\\tau$ is the fluid shear stress [M$\\cdot$L$^{-1}$$\\cdot$T$^{-2}$].\n",
    " * $U$ is the depth-averaged flow velocity [L/T].\n",
    " * $Q_w$ is the water discharge [L$^3$/T].\n",
    " * $H$ is the flow depth [L].\n",
    " * $B$ is the channel width [L].\n",
    "\n",
    "Let's define a function to compute that formula:"
   ]
  },
  {
   "cell_type": "code",
   "execution_count": null,
   "id": "d359bc79-2c2f-4269-bc68-165044c2952b",
   "metadata": {},
   "outputs": [],
   "source": [
    "def engelund_hansen_formula(grain_size,\n",
    "                            flow_velocity,\n",
    "                            fluid_density,\n",
    "                            friction_coef,\n",
    "                            submerged_specific_gravity,\n",
    "                            beta,\n",
    "                            g=9.81):\n",
    "    \"\"\"\n",
    "    Computes sediment transport using the Engelund-Hansen formula.\n",
    "\n",
    "    Parameters\n",
    "    ----------\n",
    "    grain_size : float\n",
    "        The grain size [L].\n",
    "    flow_velocity : float or array-like\n",
    "        The flow velocity in a float or a one-dimensional array [L/T].\n",
    "    fluid_density : float\n",
    "        The fluid density [M/L]3].\n",
    "    friction_coef : float\n",
    "        The coefficient of friction [dimensionless].\n",
    "    submerged_specific_gravity : float\n",
    "        The submerged specific gravity [dimensionless].\n",
    "    beta : float\n",
    "        An empirical adjustment coefficient [dimensionless].\n",
    "    g : float, default=9.81\n",
    "        The gravitational acceleration constant [L/T2, default m/s2].\n",
    "\n",
    "    Returns\n",
    "    -------\n",
    "    width_sediment_flux : float or array-like\n",
    "        The sediment transport per unit width [L2/T].\n",
    "    \"\"\"\n",
    "    fluid_shear_stress = fluid_density * friction_coef * flow_velocity**2\n",
    "    factor = beta * np.sqrt(submerged_specific_gravity*g*grain_size) * grain_size * 0.05 / friction_coef\n",
    "    width_sediment_flux = factor * (fluid_shear_stress/(fluid_density*submerged_specific_gravity*g*grain_size))**2.5\n",
    "\n",
    "    return width_sediment_flux"
   ]
  },
  {
   "cell_type": "markdown",
   "id": "877b3fdf-ab35-49de-9761-4d69e03f9564",
   "metadata": {},
   "source": [
    "And some parameter values:"
   ]
  },
  {
   "cell_type": "code",
   "execution_count": null,
   "id": "f5d68bbc-5e09-4d94-89b8-1c9adaa3dd86",
   "metadata": {},
   "outputs": [],
   "source": [
    "# Water discharge\n",
    "water_discharge = 10000 # m3/s\n",
    "# Water density\n",
    "fluid_density = 1000 # kg/m3\n",
    "\n",
    "# Grain size\n",
    "grain_size = 0.0003 # m\n",
    "# Submerged specific gravity\n",
    "submerged_specific_gravity = 1.65\n",
    "# Empirical adjustment coefficient\n",
    "beta = 0.64"
   ]
  },
  {
   "cell_type": "markdown",
   "id": "670b7e41-dbde-484a-9bef-d0af65368ad8",
   "metadata": {},
   "source": [
    "Let's define a range of flow velocity values to look at the impact of $\\beta$ on sediment transport:"
   ]
  },
  {
   "cell_type": "code",
   "execution_count": null,
   "id": "cbf67c51-a5ee-4ddb-9012-92cf2e48fe31",
   "metadata": {},
   "outputs": [],
   "source": [
    "flow_velocity = np.linspace(0., 3., 1000) # m/s"
   ]
  },
  {
   "cell_type": "markdown",
   "id": "e2adfea4-c642-4966-ac02-cf852d628cb2",
   "metadata": {},
   "source": [
    "And compute the sediment transport for two different values of $\\beta$:"
   ]
  },
  {
   "cell_type": "code",
   "execution_count": null,
   "id": "28823ba3-3fd8-4e3a-8328-9d72677725ab",
   "metadata": {},
   "outputs": [],
   "source": [
    "sediment_transport_064 = engelund_hansen_formula(grain_size,\n",
    "                                                 flow_velocity,\n",
    "                                                 fluid_density,\n",
    "                                                 friction_coef,\n",
    "                                                 submerged_specific_gravity,\n",
    "                                                 0.64)\n",
    "sediment_transport_1 = engelund_hansen_formula(grain_size,\n",
    "                                               flow_velocity,\n",
    "                                               fluid_density,\n",
    "                                               friction_coef,\n",
    "                                               submerged_specific_gravity,\n",
    "                                               1)"
   ]
  },
  {
   "cell_type": "markdown",
   "id": "63e48cb0-1269-4cc7-bb37-d68b3890a91e",
   "metadata": {},
   "source": [
    "We can then plot the sediment transport corresponding to each $\\beta$:"
   ]
  },
  {
   "cell_type": "code",
   "execution_count": null,
   "id": "065c6204-93c0-4d58-9207-fb71b994f5ec",
   "metadata": {},
   "outputs": [],
   "source": [
    "fig, ax = plt.subplots()\n",
    "fig.canvas.header_visible = False\n",
    "ax.plot(flow_velocity, sediment_transport_1, c='black', label=r'$\\beta = 1$')\n",
    "ax.plot(flow_velocity, sediment_transport_064, c='black', ls='dashed', label=r'$\\beta = 0.64$')\n",
    "ax.set(xlim=(0, 3), ylim=(0, 0.05),\n",
    "       xlabel='Velocity (m/s)', ylabel='Transport (m$^2$/s)')\n",
    "ax.legend();"
   ]
  },
  {
   "cell_type": "markdown",
   "id": "d7ca4f62-0c81-4070-82b4-0cd984b00eaf",
   "metadata": {},
   "source": [
    "Let's combine this with the previous section:"
   ]
  },
  {
   "cell_type": "code",
   "execution_count": null,
   "id": "b4948688-296c-4344-828d-42ddd530da6f",
   "metadata": {},
   "outputs": [],
   "source": [
    "flow_depth = solve_backwater_profile(initial_topography,\n",
    "                                     spacing,\n",
    "                                     channel_width,\n",
    "                                     friction_coef,\n",
    "                                     water_discharge,\n",
    "                                     base_level)\n",
    "flow_velocity = water_discharge/(flow_depth*channel_width)\n",
    "sediment_transport = engelund_hansen_formula(grain_size,\n",
    "                                             flow_velocity,\n",
    "                                             fluid_density,\n",
    "                                             friction_coef,\n",
    "                                             submerged_specific_gravity,\n",
    "                                             beta)"
   ]
  },
  {
   "cell_type": "markdown",
   "id": "8a29fd72-2693-4939-a585-a5833a711b56",
   "metadata": {},
   "source": [
    "And plot the result:"
   ]
  },
  {
   "cell_type": "code",
   "execution_count": null,
   "id": "edb071a6-afdb-4308-b7d2-41816fa99865",
   "metadata": {},
   "outputs": [],
   "source": [
    "fig, axs = plt.subplots(nrows=2, sharex=True, layout='constrained')\n",
    "fig.canvas.header_visible = False\n",
    "\n",
    "axs[0].plot(x/1000, initial_topography + flow_depth,\n",
    "            c='tab:blue', label='Water surface')\n",
    "axs[0].plot(x/1000, initial_topography, c='black', label='Channel bed')\n",
    "axs[0].set(xlim=(0, extent/1000), ylim=(-40, 80), ylabel='Elevation (m)')\n",
    "axs[0].legend()\n",
    "\n",
    "axs[1].plot(x/1000, flow_velocity, c='tab:red')\n",
    "axs[1].set(xlim=(0, extent/1000), ylim=(0, 2), xlabel='Distance downstream (km)')\n",
    "axs[1].set_ylabel('Velocity (m/s)', color='tab:red')\n",
    "axs[1].tick_params(axis='y', color='tab:red', labelcolor='tab:red')\n",
    "ax2 = axs[1].twinx()\n",
    "ax2.plot(x/1000, sediment_transport, c='tab:green')\n",
    "ax2.set(xlim=(0, extent/1000), ylim=(0, 4e-4))\n",
    "ax2.set_ylabel('Transport (m$^2$/s)', color='tab:green')\n",
    "ax2.tick_params(axis='y', color='tab:green', labelcolor='tab:green')\n",
    "ax2.spines['right'].set_color('tab:green')\n",
    "ax2.spines['left'].set_color('tab:red');"
   ]
  },
  {
   "cell_type": "markdown",
   "id": "209f50c1-9423-4a9d-a796-7ad89761ed4b",
   "metadata": {},
   "source": [
    "### 1.3. Erosion and deposition"
   ]
  },
  {
   "cell_type": "markdown",
   "id": "6d269db9-d93e-4383-9314-1e5799252409",
   "metadata": {},
   "source": [
    "This section is based on this blog post: https://www.andrewjmoodie.com/blog/2017/01-29-2017-building-a-simple-delta-numerical-model-part-iv/"
   ]
  },
  {
   "cell_type": "markdown",
   "id": "31c01b93-bbaf-454f-a5e7-1e6f871e3411",
   "metadata": {},
   "source": [
    "Now that we have the sediment transport, we can compute erosion and deposition using the [Exner equation](https://en.wikipedia.org/wiki/Exner_equation):\n",
    "$$\n",
    "\\frac{\\partial \\eta}{\\partial t} = - \\frac{1}{1 - \\lambda_p} \\frac{\\partial q_s}{\\partial x}\n",
    "$$\n",
    "Where:\n",
    " * $\\eta$ is the bed elevation [L].\n",
    " * $t$ is time [T].\n",
    " * $\\lambda_p$ is the channel-bed porosity [dimensionless].\n",
    " * $q_s$ is the sediment transport per unit width [L$^2$/T].\n",
    " * $x$ is the streamwise coordinate [L].\n",
    "\n",
    "Let's define a function to compute that equation:"
   ]
  },
  {
   "cell_type": "code",
   "execution_count": null,
   "id": "88e4a569-91f9-4877-bff9-af1d6882de37",
   "metadata": {},
   "outputs": [],
   "source": [
    "def exner_equation(sediment_transport,\n",
    "                   spacing,\n",
    "                   time_step,\n",
    "                   intermittency_factor,\n",
    "                   bed_porosity,\n",
    "                   upstream_sediment_transport,\n",
    "                   winding_coef):\n",
    "    \"\"\"\n",
    "    Computes the change of elevation over time based on Exner equation.\n",
    "\n",
    "    Parameters\n",
    "    ----------\n",
    "    sediment_transport : float or array-like\n",
    "        The sediment transport in a float or a one-dimensional array [L2/T].\n",
    "    spacing : float\n",
    "        The distance between the nodes of `sediment_transport` [L].\n",
    "    time_step : float\n",
    "        Period of time over which the change of elevation took place [T].\n",
    "    intermittency_factor : float\n",
    "        Fraction of the year that the river is experiencing significant\n",
    "        morphodynamic activity [dimensionless].\n",
    "    bed_porosity : float\n",
    "        The bed porosity [dimensionless].\n",
    "    upstream_sediment_transport : float\n",
    "        The sediment transport coming from the upstream boundary at the start\n",
    "        of `sediment_transport` [L2/T].\n",
    "    winding_coef : float\n",
    "        The winding coefficient for solving the equation [dimensionless].\n",
    "\n",
    "    Returns\n",
    "    -------\n",
    "    elevation_change : float or array-like\n",
    "        The change of elevation over time [L/T].\n",
    "    \"\"\"\n",
    "    elevation_change = np.empty_like(sediment_transport)\n",
    "\n",
    "    elevation_change[0] = (winding_coef*(sediment_transport[0] - upstream_sediment_transport)/spacing +\n",
    "                           (1 - winding_coef)*(sediment_transport[1] - sediment_transport[0])/spacing)\n",
    "    elevation_change[1:-1] = (winding_coef*(sediment_transport[1:-1] - sediment_transport[:-2])/spacing +\n",
    "                              (1 - winding_coef)*(sediment_transport[2:] - sediment_transport[1:-1])/spacing)\n",
    "    elevation_change[-1] = (sediment_transport[-1] - sediment_transport[-2])/spacing\n",
    "\n",
    "    return -intermittency_factor*time_step*elevation_change/(1 - bed_porosity)"
   ]
  },
  {
   "cell_type": "markdown",
   "id": "fcf0ce6f-b73c-422d-af12-e128e80df9c1",
   "metadata": {},
   "source": [
    "And some parameter values:"
   ]
  },
  {
   "cell_type": "code",
   "execution_count": null,
   "id": "6029a941-9d34-4d29-a7f8-88cc8f13d36f",
   "metadata": {},
   "outputs": [],
   "source": [
    "winding_coef = 1\n",
    "upstream_sediment_transport = sediment_transport[0]"
   ]
  },
  {
   "cell_type": "markdown",
   "id": "a9da44a6-bc8d-4156-ae56-83b990cbc645",
   "metadata": {},
   "source": [
    "Now let's compute $\\partial q_s / \\partial x$ only:"
   ]
  },
  {
   "cell_type": "code",
   "execution_count": null,
   "id": "26c61aea-b2f1-4f8a-95e8-45eacc600e41",
   "metadata": {},
   "outputs": [],
   "source": [
    "dqdx = exner_equation(sediment_transport,\n",
    "                      spacing,\n",
    "                      1,\n",
    "                      1,\n",
    "                      0,\n",
    "                      upstream_sediment_transport,\n",
    "                      winding_coef)\n",
    "dqdx *= -1"
   ]
  },
  {
   "cell_type": "markdown",
   "id": "c15f79a4-ea78-4af9-a02a-ef07f9bce8c0",
   "metadata": {},
   "source": [
    "And plot it:"
   ]
  },
  {
   "cell_type": "code",
   "execution_count": null,
   "id": "20ed0321-719e-41d6-9e41-8d00b768b166",
   "metadata": {},
   "outputs": [],
   "source": [
    "fig, ax = plt.subplots()\n",
    "fig.canvas.header_visible = False\n",
    "ax.plot(x/1000, dqdx)\n",
    "ax.set(xlim=(0, extent/1000), #ylim=(-1.5e-9, 0.),\n",
    "       xlabel='Distance downstream (km)', ylabel=r'$\\partial q_s/\\partial x$');"
   ]
  },
  {
   "cell_type": "markdown",
   "id": "20465794-b4b6-46f4-a863-ba39dfa97ecf",
   "metadata": {},
   "source": [
    "## 2. Putting it all together"
   ]
  },
  {
   "cell_type": "markdown",
   "id": "c9f19a02-ec7a-439f-9f26-bc0319443ebb",
   "metadata": {},
   "source": [
    "This section is based on these two blog posts:\n",
    " * https://www.andrewjmoodie.com/blog/2017/03-18-2017-building-a-simple-delta-numerical-model-part-v/\n",
    " * https://www.andrewjmoodie.com/blog/2017/04-02-2017-building-a-simple-delta-numerical-model-part-vi/"
   ]
  },
  {
   "cell_type": "markdown",
   "id": "b670de58-af78-4e39-a512-bf3e4d4925c5",
   "metadata": {},
   "source": [
    "Now all we need to do is put everything into a loop to simulate the evolution of a simple delta over time.\n",
    "\n",
    "Let's summarize all the parameters required for that:"
   ]
  },
  {
   "cell_type": "code",
   "execution_count": null,
   "id": "5e07f157-47c9-4615-ace9-0601c137a446",
   "metadata": {},
   "outputs": [],
   "source": [
    "# Domain\n",
    "extent = 1200e3 # m\n",
    "shape = 400 # cell\n",
    "spacing = extent/shape # m\n",
    "\n",
    "# Time\n",
    "run_time = 500 # yr\n",
    "time_step = 0.1 # yr\n",
    "save_step = 2 # yr\n",
    "intermittency_factor = 0.2\n",
    "\n",
    "# Initial topography\n",
    "initial_elevation = 63 # m\n",
    "initial_slope = 7e-5 # m/m\n",
    "\n",
    "# Channel and flow\n",
    "base_level = 0 # m\n",
    "channel_width = 1100 # m\n",
    "water_discharge = 10000 # m3/s\n",
    "fluid_density = 1000 # kg/m3\n",
    "friction_coef = 0.0047\n",
    "\n",
    "# Sediment\n",
    "grain_size = 0.0003 # m\n",
    "bed_porosity = 0.6\n",
    "submerged_specific_gravity = 1.65\n",
    "beta = 0.64\n",
    "\n",
    "# Solver\n",
    "winding_coef = 1"
   ]
  },
  {
   "cell_type": "markdown",
   "id": "0030f205-ff19-4365-bb77-57f21b52a0f8",
   "metadata": {},
   "source": [
    "And derive some extra parameters:"
   ]
  },
  {
   "cell_type": "code",
   "execution_count": null,
   "id": "348c6f1e-b21f-4897-9dd7-bce3be4fcad7",
   "metadata": {},
   "outputs": [],
   "source": [
    "n_steps = int(run_time/time_step) + 1\n",
    "i_save_step = int(save_step/time_step)\n",
    "time_step_sec = 31557600*time_step # s"
   ]
  },
  {
   "cell_type": "markdown",
   "id": "b2f40b78-44c2-46a3-9377-41f356e07290",
   "metadata": {},
   "source": [
    "Now we can run a big loop to build our delta through time and save the outcome:"
   ]
  },
  {
   "cell_type": "code",
   "execution_count": null,
   "id": "470aed3d-af48-4be9-bc13-f1d0f1608428",
   "metadata": {},
   "outputs": [],
   "source": [
    "saved_topography = np.empty((n_steps//i_save_step + 1,) + initial_topography.shape)\n",
    "saved_topography[0] = initial_topography\n",
    "saved_flow_depth = np.empty((n_steps//i_save_step + 1,) + initial_topography.shape)\n",
    "topography = initial_topography.copy()\n",
    "\n",
    "for i in range(n_steps):\n",
    "    flow_depth = solve_backwater_profile(topography,\n",
    "                                         spacing,\n",
    "                                         channel_width,\n",
    "                                         friction_coef,\n",
    "                                         water_discharge,\n",
    "                                         base_level)\n",
    "    flow_velocity = water_discharge/(flow_depth*channel_width)\n",
    "    sediment_transport = engelund_hansen_formula(grain_size,\n",
    "                                                 flow_velocity,\n",
    "                                                 fluid_density,\n",
    "                                                 friction_coef,\n",
    "                                                 submerged_specific_gravity,\n",
    "                                                 beta)\n",
    "    elevation_change = exner_equation(sediment_transport,\n",
    "                                      spacing,\n",
    "                                      time_step_sec,\n",
    "                                      intermittency_factor,\n",
    "                                      bed_porosity,\n",
    "                                      sediment_transport[0],\n",
    "                                      winding_coef)\n",
    "    topography += elevation_change\n",
    "    if i%i_save_step == 0 and i > 0:\n",
    "        saved_topography[i//i_save_step] = topography\n",
    "        saved_flow_depth[i//i_save_step - 1] = flow_depth\n",
    "\n",
    "saved_flow_depth[-1] = solve_backwater_profile(saved_topography[-1],\n",
    "                                               spacing,\n",
    "                                               channel_width,\n",
    "                                               friction_coef,\n",
    "                                               water_discharge,\n",
    "                                               base_level)"
   ]
  },
  {
   "cell_type": "markdown",
   "id": "97d5d3b7-5308-49bb-915d-ccb5e67bb7cc",
   "metadata": {},
   "source": [
    "And plot the result in a video:"
   ]
  },
  {
   "cell_type": "code",
   "execution_count": null,
   "id": "f78b20f1-1be0-40d4-92eb-cdbb280d128e",
   "metadata": {},
   "outputs": [],
   "source": [
    "fig, ax = plt.subplots()\n",
    "fig.canvas.header_visible = False\n",
    "\n",
    "line_water, = ax.plot(x/1000, saved_topography[0] + saved_flow_depth[0],\n",
    "                      c='tab:blue', label='Water surface')\n",
    "ax.plot(x/1000, saved_topography[0], c='gray')\n",
    "line_bed, = ax.plot(x/1000, saved_topography[0], c='black', label='Channel bed')\n",
    "ax.set(xlim=(0, extent/1000), ylim=(-40, 80),\n",
    "       xlabel='Distance downstream (km)', ylabel='Elevation (m)')\n",
    "ax.legend()\n",
    "\n",
    "plt.close()\n",
    "\n",
    "def update(i):\n",
    "    line_water.set_ydata(saved_topography[i] + saved_flow_depth[i])\n",
    "    line_bed.set_ydata(saved_topography[i])\n",
    "\n",
    "ani = animation.FuncAnimation(fig, update, range(saved_topography.shape[0]), interval=50)\n",
    "HTML(ani.to_jshtml())"
   ]
  }
 ],
 "metadata": {
  "kernelspec": {
   "display_name": "Python 3 (ipykernel)",
   "language": "python",
   "name": "python3"
  },
  "language_info": {
   "codemirror_mode": {
    "name": "ipython",
    "version": 3
   },
   "file_extension": ".py",
   "mimetype": "text/x-python",
   "name": "python",
   "nbconvert_exporter": "python",
   "pygments_lexer": "ipython3",
   "version": "3.13.2"
  }
 },
 "nbformat": 4,
 "nbformat_minor": 5
}
